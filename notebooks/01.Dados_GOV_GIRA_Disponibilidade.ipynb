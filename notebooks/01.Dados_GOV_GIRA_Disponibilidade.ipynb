{
 "cells": [
  {
   "cell_type": "markdown",
   "id": "ca14634f-569b-4530-aca6-68776ee5266d",
   "metadata": {},
   "source": [
    "# GIRA - Extrair disponibilidade bicicletas\n",
    "\n",
    "Manuel Banza - February, 2022"
   ]
  },
  {
   "cell_type": "code",
   "execution_count": 48,
   "id": "ad0a1770-352c-469b-9154-754f94fdedb1",
   "metadata": {},
   "outputs": [],
   "source": [
    "import requests\n",
    "import pandas as pd\n",
    "import datetime\n",
    "import time"
   ]
  },
  {
   "cell_type": "code",
   "execution_count": 68,
   "id": "ad5bc4f1-45b9-4de3-a0b4-1e5a2e3808b1",
   "metadata": {},
   "outputs": [
    {
     "name": "stdout",
     "output_type": "stream",
     "text": [
      "120\n"
     ]
    },
    {
     "name": "stderr",
     "output_type": "stream",
     "text": [
      "<ipython-input-68-c7637f8937c5>:14: FutureWarning: The default value of regex will change from True to False in a future version.\n",
      "  df['position'] = df['position'].str.replace('],', '')\n"
     ]
    },
    {
     "data": {
      "text/html": [
       "<div>\n",
       "<style scoped>\n",
       "    .dataframe tbody tr th:only-of-type {\n",
       "        vertical-align: middle;\n",
       "    }\n",
       "\n",
       "    .dataframe tbody tr th {\n",
       "        vertical-align: top;\n",
       "    }\n",
       "\n",
       "    .dataframe thead th {\n",
       "        text-align: right;\n",
       "    }\n",
       "</style>\n",
       "<table border=\"1\" class=\"dataframe\">\n",
       "  <thead>\n",
       "    <tr style=\"text-align: right;\">\n",
       "      <th></th>\n",
       "      <th>desigcomercial</th>\n",
       "      <th>numbicicletas</th>\n",
       "      <th>numdocasvacias</th>\n",
       "      <th>add_data</th>\n",
       "      <th>add_hora</th>\n",
       "      <th>datetime</th>\n",
       "      <th>longitude</th>\n",
       "      <th>latitude</th>\n",
       "    </tr>\n",
       "  </thead>\n",
       "  <tbody>\n",
       "    <tr>\n",
       "      <th>0</th>\n",
       "      <td>475 - Av. Professor Gama Pinto / Cantina Velha</td>\n",
       "      <td>6</td>\n",
       "      <td>35</td>\n",
       "      <td>2022-02-08</td>\n",
       "      <td>18:56:16.</td>\n",
       "      <td>2022-02-08 18:56:16</td>\n",
       "      <td>-9.15907</td>\n",
       "      <td>38.75115</td>\n",
       "    </tr>\n",
       "    <tr>\n",
       "      <th>1</th>\n",
       "      <td>476 - Av. Professor Gama Pinto / Reitoria</td>\n",
       "      <td>16</td>\n",
       "      <td>7</td>\n",
       "      <td>2022-02-08</td>\n",
       "      <td>18:56:16.</td>\n",
       "      <td>2022-02-08 18:56:16</td>\n",
       "      <td>-9.15885</td>\n",
       "      <td>38.75231</td>\n",
       "    </tr>\n",
       "    <tr>\n",
       "      <th>2</th>\n",
       "      <td>460 - Av. Rio de Janeiro / Parque de Jogos 1º ...</td>\n",
       "      <td>15</td>\n",
       "      <td>0</td>\n",
       "      <td>2022-02-08</td>\n",
       "      <td>18:56:16.</td>\n",
       "      <td>2022-02-08 18:56:16</td>\n",
       "      <td>-9.13749</td>\n",
       "      <td>38.75176</td>\n",
       "    </tr>\n",
       "  </tbody>\n",
       "</table>\n",
       "</div>"
      ],
      "text/plain": [
       "                                      desigcomercial  numbicicletas  \\\n",
       "0     475 - Av. Professor Gama Pinto / Cantina Velha              6   \n",
       "1          476 - Av. Professor Gama Pinto / Reitoria             16   \n",
       "2  460 - Av. Rio de Janeiro / Parque de Jogos 1º ...             15   \n",
       "\n",
       "   numdocasvacias   add_data   add_hora            datetime longitude  \\\n",
       "0              35 2022-02-08  18:56:16. 2022-02-08 18:56:16  -9.15907   \n",
       "1               7 2022-02-08  18:56:16. 2022-02-08 18:56:16  -9.15885   \n",
       "2               0 2022-02-08  18:56:16. 2022-02-08 18:56:16  -9.13749   \n",
       "\n",
       "   latitude  \n",
       "0  38.75115  \n",
       "1  38.75231  \n",
       "2  38.75176  "
      ]
     },
     "execution_count": 68,
     "metadata": {},
     "output_type": "execute_result"
    }
   ],
   "source": [
    "url = 'http://coiapp.cm-lisboa.pt/api/opendata/public/download/53616c7465645f5f62a975d9194dd0ee7a0d7ffb4f36b0c0b5161a94daf4ed0e.csv?format=csv'\n",
    "df = pd.read_csv(url, encoding='utf8')\n",
    "print(len(df))\n",
    "\n",
    "# Passar para date e criar coluna datetime\n",
    "df['add_data'] = pd.to_datetime(df['add_data'], format='%Y-%m-%d')\n",
    "df['datetime'] = df['add_data'].astype(str) + ' ' + df['add_hora'].astype(str)\n",
    "df['datetime'] = pd.to_datetime(df['datetime'])\n",
    "\n",
    "# Limpar coluna com coordenadas\n",
    "df['position'] = df['position'].astype(str)\n",
    "df['position'] = df['position'].str[17:]\n",
    "df['position'] = df['position'].str[:20]\n",
    "df['position'] = df['position'].str.replace('],', '')\n",
    "\n",
    "# cirar latitude e longitude\n",
    "df[['longitude', 'latitude']] = df['position'].str.split(', ', expand=True)\n",
    "\n",
    "# Eliminar coluna position\n",
    "df = df.drop(columns=['position'])\n",
    "\n",
    "df.head(3)"
   ]
  },
  {
   "cell_type": "code",
   "execution_count": 8,
   "id": "1014a2fe-6c41-4985-b79e-50d8e632bfcb",
   "metadata": {},
   "outputs": [
    {
     "name": "stdout",
     "output_type": "stream",
     "text": [
      "2019-07-01 16:35:49\n",
      "2022-02-08 18:56:22\n"
     ]
    },
    {
     "data": {
      "text/html": [
       "<div>\n",
       "<style scoped>\n",
       "    .dataframe tbody tr th:only-of-type {\n",
       "        vertical-align: middle;\n",
       "    }\n",
       "\n",
       "    .dataframe tbody tr th {\n",
       "        vertical-align: top;\n",
       "    }\n",
       "\n",
       "    .dataframe thead th {\n",
       "        text-align: right;\n",
       "    }\n",
       "</style>\n",
       "<table border=\"1\" class=\"dataframe\">\n",
       "  <thead>\n",
       "    <tr style=\"text-align: right;\">\n",
       "      <th></th>\n",
       "      <th>desigcomercial</th>\n",
       "      <th>numbicicletas</th>\n",
       "      <th>numdocasvacias</th>\n",
       "      <th>position</th>\n",
       "      <th>add_data</th>\n",
       "      <th>add_hora</th>\n",
       "      <th>datetime</th>\n",
       "    </tr>\n",
       "  </thead>\n",
       "  <tbody>\n",
       "    <tr>\n",
       "      <th>0</th>\n",
       "      <td>Avenida das Gaivotas - Rua dos Corvos</td>\n",
       "      <td>18</td>\n",
       "      <td>2</td>\n",
       "      <td>{\"coordinates\": [-9.180755, 38.769083], \"type\"...</td>\n",
       "      <td>2020-09-24</td>\n",
       "      <td>10:52:51.</td>\n",
       "      <td>2020-09-24 10:52:51</td>\n",
       "    </tr>\n",
       "    <tr>\n",
       "      <th>1</th>\n",
       "      <td>220 - Rua do Comercio</td>\n",
       "      <td>9</td>\n",
       "      <td>11</td>\n",
       "      <td>{\"coordinates\": [-9.137125, 38.70878], \"type\":...</td>\n",
       "      <td>2022-02-08</td>\n",
       "      <td>18:56:13.</td>\n",
       "      <td>2022-02-08 18:56:13</td>\n",
       "    </tr>\n",
       "    <tr>\n",
       "      <th>2</th>\n",
       "      <td>463 - Campo Grande / Av. da Igreja</td>\n",
       "      <td>2</td>\n",
       "      <td>8</td>\n",
       "      <td>{\"coordinates\": [-9.14951, 38.75243], \"type\": ...</td>\n",
       "      <td>2022-02-08</td>\n",
       "      <td>18:56:14.</td>\n",
       "      <td>2022-02-08 18:56:14</td>\n",
       "    </tr>\n",
       "  </tbody>\n",
       "</table>\n",
       "</div>"
      ],
      "text/plain": [
       "                          desigcomercial  numbicicletas  numdocasvacias  \\\n",
       "0  Avenida das Gaivotas - Rua dos Corvos             18               2   \n",
       "1                  220 - Rua do Comercio              9              11   \n",
       "2     463 - Campo Grande / Av. da Igreja              2               8   \n",
       "\n",
       "                                            position   add_data   add_hora  \\\n",
       "0  {\"coordinates\": [-9.180755, 38.769083], \"type\"... 2020-09-24  10:52:51.   \n",
       "1  {\"coordinates\": [-9.137125, 38.70878], \"type\":... 2022-02-08  18:56:13.   \n",
       "2  {\"coordinates\": [-9.14951, 38.75243], \"type\": ... 2022-02-08  18:56:14.   \n",
       "\n",
       "             datetime  \n",
       "0 2020-09-24 10:52:51  \n",
       "1 2022-02-08 18:56:13  \n",
       "2 2022-02-08 18:56:14  "
      ]
     },
     "execution_count": 8,
     "metadata": {},
     "output_type": "execute_result"
    }
   ],
   "source": [
    "# Passar para date e criar coluna datetime\n",
    "print(df.datetime.min())\n",
    "print(df.datetime.max())\n",
    "df.head(3)"
   ]
  },
  {
   "cell_type": "code",
   "execution_count": 69,
   "id": "c79ea350-a7fb-48a6-b4bb-137538be9afc",
   "metadata": {},
   "outputs": [],
   "source": [
    "from datetime import datetime, timedelta\n",
    "\n",
    "yesterday = datetime.now() - timedelta(days=1)\n",
    "yesterday = yesterday.strftime('%Y-%m-%d')"
   ]
  },
  {
   "cell_type": "code",
   "execution_count": 70,
   "id": "592ddcb1-f442-4f5d-8275-78b1b6c94235",
   "metadata": {},
   "outputs": [
    {
     "name": "stdout",
     "output_type": "stream",
     "text": [
      "120\n",
      "113\n"
     ]
    }
   ],
   "source": [
    "print(len(df))\n",
    "df = df.loc[df['add_data']>=yesterday]\n",
    "print(len(df))"
   ]
  },
  {
   "cell_type": "code",
   "execution_count": null,
   "id": "2cf94326-58d6-4197-94dc-ea8c9b4b7589",
   "metadata": {},
   "outputs": [],
   "source": [
    "# Get today date now to file name when export to csv or excel with encoding utf8\n",
    "from datetime import datetime\n",
    "df.to_csv(datetime.now().strftime('data_sources/data_transformed/gira_disponibilidade-%Y-%m-%d-%H-%M-%S.csv'), encoding='utf8', index=False)"
   ]
  }
 ],
 "metadata": {
  "kernelspec": {
   "display_name": "Python 3",
   "language": "python",
   "name": "python3"
  },
  "language_info": {
   "codemirror_mode": {
    "name": "ipython",
    "version": 3
   },
   "file_extension": ".py",
   "mimetype": "text/x-python",
   "name": "python",
   "nbconvert_exporter": "python",
   "pygments_lexer": "ipython3",
   "version": "3.9.4"
  }
 },
 "nbformat": 4,
 "nbformat_minor": 5
}
